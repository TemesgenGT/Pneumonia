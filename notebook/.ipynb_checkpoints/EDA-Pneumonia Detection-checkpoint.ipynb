{
 "cells": [
  {
   "cell_type": "markdown",
   "metadata": {},
   "source": [
    "### Import libraries"
   ]
  },
  {
   "cell_type": "code",
   "execution_count": 1,
   "metadata": {},
   "outputs": [
    {
     "name": "stdout",
     "output_type": "stream",
     "text": [
      "2.6.0\n"
     ]
    }
   ],
   "source": [
    "# Tensorflow and tf.keras\n",
    "import os\n",
    "import pandas as pd\n",
    "import seaborn as sn\n",
    "\n",
    "import tensorflow as tf\n",
    "from tensorflow import keras\n",
    "from keras.layers import Dense, MaxPooling2D, Flatten, Conv2D, Dropout\n",
    "from keras.models import Sequential\n",
    "\n",
    "import numpy as np\n",
    "import matplotlib.pyplot as plt\n",
    "%matplotlib inline\n",
    "\n",
    "print(tf.__version__)"
   ]
  },
  {
   "cell_type": "code",
   "execution_count": 2,
   "metadata": {},
   "outputs": [],
   "source": [
    "# Download and create image shape\n",
    "\n",
    "import keras\n",
    "from keras.preprocessing.image import ImageDataGenerator, load_img\n",
    "import warnings\n",
    "#from keras.layers import MaxPooling2D, Flatten, Conv2D\n"
   ]
  },
  {
   "cell_type": "markdown",
   "metadata": {},
   "source": [
    "## Pneumonia Detection"
   ]
  },
  {
   "cell_type": "markdown",
   "metadata": {},
   "source": [
    "### Chest x-xray images "
   ]
  },
  {
   "cell_type": "code",
   "execution_count": 3,
   "metadata": {},
   "outputs": [],
   "source": [
    "# chest_xray directory\n",
    "\n",
    "DATADIR = \"chest_xray/\""
   ]
  },
  {
   "cell_type": "markdown",
   "metadata": {},
   "source": [
    "## Data Wrangling and Exploratory Data Analysis (EDA)"
   ]
  },
  {
   "cell_type": "markdown",
   "metadata": {},
   "source": [
    "### Define the paths to each file"
   ]
  },
  {
   "cell_type": "code",
   "execution_count": 4,
   "metadata": {},
   "outputs": [],
   "source": [
    "#Use os.path.join() method to access the file through the direcectory\n",
    "train_dir = os.path.join(DATADIR, 'train')\n",
    "val_dir = os.path.join(DATADIR, 'val')\n",
    "test_dir = os.path.join(DATADIR, 'test')"
   ]
  },
  {
   "cell_type": "code",
   "execution_count": 5,
   "metadata": {},
   "outputs": [],
   "source": [
    "# Colllect Pnemonia data from files\n",
    "pneumonia_train_dir = os.path.join(train_dir,'PNEUMONIA')\n",
    "pneumonia_val_dir = os.path.join(val_dir, 'PNEUMONIA')\n",
    "pneumonia_test_dir = os.path.join(test_dir, 'PNEUMONIA')"
   ]
  },
  {
   "cell_type": "code",
   "execution_count": 6,
   "metadata": {},
   "outputs": [],
   "source": [
    "# agggregate Normal data from the files\n",
    "normal_train_dir = os.path.join(train_dir, 'NORMAL')\n",
    "normal_val_dir = os.path.join(val_dir, 'NORMAL')\n",
    "normal_test_dir = os.path.join(test_dir, 'NORMAL')"
   ]
  },
  {
   "cell_type": "code",
   "execution_count": 7,
   "metadata": {},
   "outputs": [
    {
     "ename": "FileNotFoundError",
     "evalue": "[Errno 2] No such file or directory: 'chest_xray/train/PNEUMONIA'",
     "output_type": "error",
     "traceback": [
      "\u001b[0;31m---------------------------------------------------------------------------\u001b[0m",
      "\u001b[0;31mFileNotFoundError\u001b[0m                         Traceback (most recent call last)",
      "\u001b[0;32m/var/folders/xz/p34bgl495j326k35_72pjxdw0000gn/T/ipykernel_9243/4205171906.py\u001b[0m in \u001b[0;36m<module>\u001b[0;34m\u001b[0m\n\u001b[1;32m      1\u001b[0m \u001b[0;31m# check the size of pneumonia in the dataset\u001b[0m\u001b[0;34m\u001b[0m\u001b[0;34m\u001b[0m\u001b[0;34m\u001b[0m\u001b[0m\n\u001b[0;32m----> 2\u001b[0;31m \u001b[0mpneumonia_train_images\u001b[0m \u001b[0;34m=\u001b[0m \u001b[0mlen\u001b[0m\u001b[0;34m(\u001b[0m\u001b[0mos\u001b[0m\u001b[0;34m.\u001b[0m\u001b[0mlistdir\u001b[0m\u001b[0;34m(\u001b[0m\u001b[0mpneumonia_train_dir\u001b[0m\u001b[0;34m)\u001b[0m\u001b[0;34m)\u001b[0m\u001b[0;34m\u001b[0m\u001b[0;34m\u001b[0m\u001b[0m\n\u001b[0m\u001b[1;32m      3\u001b[0m \u001b[0mpneumonia_val_images\u001b[0m \u001b[0;34m=\u001b[0m \u001b[0mlen\u001b[0m\u001b[0;34m(\u001b[0m\u001b[0mos\u001b[0m\u001b[0;34m.\u001b[0m\u001b[0mlistdir\u001b[0m\u001b[0;34m(\u001b[0m\u001b[0mpneumonia_val_dir\u001b[0m\u001b[0;34m)\u001b[0m\u001b[0;34m)\u001b[0m\u001b[0;34m\u001b[0m\u001b[0;34m\u001b[0m\u001b[0m\n\u001b[1;32m      4\u001b[0m \u001b[0mpneumonia_test_images\u001b[0m \u001b[0;34m=\u001b[0m \u001b[0mlen\u001b[0m\u001b[0;34m(\u001b[0m\u001b[0mos\u001b[0m\u001b[0;34m.\u001b[0m\u001b[0mlistdir\u001b[0m\u001b[0;34m(\u001b[0m\u001b[0mpneumonia_test_dir\u001b[0m\u001b[0;34m)\u001b[0m\u001b[0;34m)\u001b[0m\u001b[0;34m\u001b[0m\u001b[0;34m\u001b[0m\u001b[0m\n",
      "\u001b[0;31mFileNotFoundError\u001b[0m: [Errno 2] No such file or directory: 'chest_xray/train/PNEUMONIA'"
     ]
    }
   ],
   "source": [
    "# check the size of pneumonia in the dataset\n",
    "pneumonia_train_images = len(os.listdir(pneumonia_train_dir))\n",
    "pneumonia_val_images = len(os.listdir(pneumonia_val_dir))\n",
    "pneumonia_test_images = len(os.listdir(pneumonia_test_dir))"
   ]
  },
  {
   "cell_type": "code",
   "execution_count": null,
   "metadata": {},
   "outputs": [],
   "source": [
    "# Check the size of normal in the dataset\n",
    "normal_train_images = len(os.listdir(normal_train_dir))\n",
    "normal_val_images = len(os.listdir(normal_val_dir))\n",
    "normal_test_images = len(os.listdir(normal_test_dir))"
   ]
  },
  {
   "cell_type": "markdown",
   "metadata": {},
   "source": [
    "### The subtotal images per classes in each file"
   ]
  },
  {
   "cell_type": "code",
   "execution_count": null,
   "metadata": {},
   "outputs": [],
   "source": [
    "print('*' * 40)\n",
    "print(f'Total training images: {pneumonia_train_images + normal_train_images}')\n",
    "print(f'Pneumonia: {pneumonia_train_images}')\n",
    "print(f'Noraml: {normal_train_images}')\n",
    "print('*'*40)\n",
    "\n",
    "print(f'Total validation images: {pneumonia_val_images + normal_val_images}')\n",
    "print(f'Pneumomian: {pneumonia_val_images}')\n",
    "print(f'Normal: {normal_val_images}')\n",
    "print('*'*40)\n",
    "#print('\\n')\n",
    "print(f'Total test images: {pneumonia_test_images + normal_test_images}')\n",
    "print(f'Pneumonia test images: {pneumonia_test_images}')\n",
    "print(f' Nomal test images: {normal_test_images}')\n",
    "print('*' * 40)"
   ]
  },
  {
   "cell_type": "code",
   "execution_count": null,
   "metadata": {},
   "outputs": [],
   "source": [
    "pneumonia = sum([pneumonia_train_images, pneumonia_val_images, pneumonia_test_images])\n",
    "normal = sum([normal_train_images, normal_val_images, normal_test_images])\n",
    "\n",
    "print(f\"The total number of pneumonia infected dataset is: {pneumonia} \")\n",
    "print(f\"The total number of non infected dataset is: {normal}\")"
   ]
  },
  {
   "cell_type": "code",
   "execution_count": null,
   "metadata": {},
   "outputs": [],
   "source": [
    "sn.barplot(x =[\"NORMAL\", 'PNEUMONIA'], y =[normal, pneumonia])\n",
    "plt.title(\"Training Dataset Class Distribution Plot\", size = 20)\n",
    "sn.set_style('darkgrid')\n",
    "plt.show()"
   ]
  },
  {
   "cell_type": "code",
   "execution_count": null,
   "metadata": {},
   "outputs": [],
   "source": [
    "category = [ \"PNEUMONIA\", \"NORMAL\"]\n",
    "\n",
    "df = pd.DataFrame({'train':[pneumonia_train_images, normal_train_images],'test':[pneumonia_test_images,\n",
    "                            normal_test_images],'val':[pneumonia_val_images,normal_val_images]}, index= category)\n",
    "plt.figure(figsize=(8, 8))\n",
    "df.plot(kind='bar', rot =45, width=0.7)\n",
    "plt.yscale('log')\n",
    "plt.legend(loc= 'best')\n",
    "plt.title('Normal vs. Pneumonia Datasets')\n",
    "plt.show()\n",
    "\n",
    "df.head()"
   ]
  },
  {
   "cell_type": "markdown",
   "metadata": {},
   "source": [
    "### Preprocessing"
   ]
  },
  {
   "cell_type": "code",
   "execution_count": null,
   "metadata": {},
   "outputs": [],
   "source": [
    "# Data agumentation only for training data\n",
    "train_datagen = ImageDataGenerator(\n",
    "            rescale = 1./255,\n",
    "            shear_range=0.2,\n",
    "            zoom_range = 0.2,\n",
    "            horizontal_flip = True)"
   ]
  },
  {
   "cell_type": "code",
   "execution_count": null,
   "metadata": {},
   "outputs": [],
   "source": [
    "# test data only scaled \n",
    "test_datagen = ImageDataGenerator(rescale=1.0/255)\n",
    "train_generator = train_datagen.flow_from_directory(\n",
    "                                        'chest_xray/chest_xray/train',\n",
    "                                    target_size=(64,64),\n",
    "                                    batch_size = 64,\n",
    "                                    class_mode ='binary')\n",
    "\n",
    "validation_generator = test_datagen.flow_from_directory('chest_xray/chest_xray/test',\n",
    "                                                       target_size= (64, 64),\n",
    "                                                       batch_size = 64,\n",
    "                                                       class_mode = 'binary')"
   ]
  },
  {
   "cell_type": "markdown",
   "metadata": {},
   "source": [
    "### Show some images after data augmentation"
   ]
  },
  {
   "cell_type": "code",
   "execution_count": null,
   "metadata": {},
   "outputs": [],
   "source": [
    "images_batch, label_batch = next(iter(train_generator))\n",
    "\n",
    "\n",
    "def show_batch(images_batch, label_batch):\n",
    "    plt.figure(figsize=(10,10))\n",
    "    for i in range(0, 25):\n",
    "        ax= plt.subplot(5, 5, i+1)\n",
    "        plt.imshow(images_batch[i])\n",
    "        if label_batch[i]:\n",
    "            plt.title(\"PNEUMONIA\")\n",
    "        else:\n",
    "            plt.title('NORMAL')\n",
    "            plt.axis('off')\n",
    "    plt.tight_layout()\n",
    "show_batch(images_batch, label_batch)"
   ]
  },
  {
   "cell_type": "markdown",
   "metadata": {},
   "source": [
    "### Summary"
   ]
  },
  {
   "cell_type": "markdown",
   "metadata": {},
   "source": [
    "Lung images infected with pneumonia show irregularly more whites than the normal lung, however, few lung images are misleading to classify with the naked eye, which usually makes image classification difficult. Generally, data imbalance between the two classes is a concern for biases and model overfitting.\n"
   ]
  },
  {
   "cell_type": "code",
   "execution_count": null,
   "metadata": {},
   "outputs": [],
   "source": []
  }
 ],
 "metadata": {
  "kernelspec": {
   "display_name": "Python 3",
   "language": "python",
   "name": "python3"
  },
  "language_info": {
   "codemirror_mode": {
    "name": "ipython",
    "version": 3
   },
   "file_extension": ".py",
   "mimetype": "text/x-python",
   "name": "python",
   "nbconvert_exporter": "python",
   "pygments_lexer": "ipython3",
   "version": "3.8.11"
  }
 },
 "nbformat": 4,
 "nbformat_minor": 4
}
